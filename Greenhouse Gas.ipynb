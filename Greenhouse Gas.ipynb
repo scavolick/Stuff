{
    "nbformat_minor": 1, 
    "cells": [
        {
            "execution_count": 1, 
            "cell_type": "code", 
            "metadata": {}, 
            "outputs": [
                {
                    "execution_count": 1, 
                    "metadata": {}, 
                    "data": {
                        "text/html": "<div>\n<style scoped>\n    .dataframe tbody tr th:only-of-type {\n        vertical-align: middle;\n    }\n\n    .dataframe tbody tr th {\n        vertical-align: top;\n    }\n\n    .dataframe thead th {\n        text-align: right;\n    }\n</style>\n<table border=\"1\" class=\"dataframe\">\n  <thead>\n    <tr style=\"text-align: right;\">\n      <th></th>\n      <th>Country or Area</th>\n      <th>Year</th>\n      <th>co2_gigagrams</th>\n      <th>hfc_gigagrams</th>\n      <th>methane_gigagrams</th>\n      <th>pfc_gigagrams</th>\n      <th>sf6_gigagrams</th>\n      <th>n2o_gigagrams</th>\n    </tr>\n  </thead>\n  <tbody>\n    <tr>\n      <th>0</th>\n      <td>Australia</td>\n      <td>2012</td>\n      <td>397830.6047</td>\n      <td>7945.106379</td>\n      <td>111709.4988</td>\n      <td>253.697462</td>\n      <td>134.111252</td>\n      <td>25775.42951</td>\n    </tr>\n    <tr>\n      <th>1</th>\n      <td>Australia</td>\n      <td>2011</td>\n      <td>398161.3872</td>\n      <td>7512.150105</td>\n      <td>110274.7423</td>\n      <td>259.250564</td>\n      <td>134.136620</td>\n      <td>25201.09362</td>\n    </tr>\n    <tr>\n      <th>2</th>\n      <td>Australia</td>\n      <td>2010</td>\n      <td>399364.8191</td>\n      <td>6942.606891</td>\n      <td>109062.6389</td>\n      <td>243.764011</td>\n      <td>145.185945</td>\n      <td>24451.85748</td>\n    </tr>\n    <tr>\n      <th>3</th>\n      <td>Australia</td>\n      <td>2009</td>\n      <td>398668.7713</td>\n      <td>6353.309697</td>\n      <td>110806.5324</td>\n      <td>307.886656</td>\n      <td>143.230925</td>\n      <td>24897.90320</td>\n    </tr>\n    <tr>\n      <th>4</th>\n      <td>Australia</td>\n      <td>2008</td>\n      <td>399084.1509</td>\n      <td>5810.538264</td>\n      <td>113592.7600</td>\n      <td>381.135610</td>\n      <td>158.400094</td>\n      <td>25546.77744</td>\n    </tr>\n  </tbody>\n</table>\n</div>", 
                        "text/plain": "  Country or Area  Year  co2_gigagrams  hfc_gigagrams  methane_gigagrams  \\\n0       Australia  2012    397830.6047    7945.106379        111709.4988   \n1       Australia  2011    398161.3872    7512.150105        110274.7423   \n2       Australia  2010    399364.8191    6942.606891        109062.6389   \n3       Australia  2009    398668.7713    6353.309697        110806.5324   \n4       Australia  2008    399084.1509    5810.538264        113592.7600   \n\n   pfc_gigagrams  sf6_gigagrams  n2o_gigagrams  \n0     253.697462     134.111252    25775.42951  \n1     259.250564     134.136620    25201.09362  \n2     243.764011     145.185945    24451.85748  \n3     307.886656     143.230925    24897.90320  \n4     381.135610     158.400094    25546.77744  "
                    }, 
                    "output_type": "execute_result"
                }
            ], 
            "source": "# The code was removed by Watson Studio for sharing."
        }, 
        {
            "execution_count": null, 
            "cell_type": "code", 
            "metadata": {}, 
            "outputs": [], 
            "source": ""
        }
    ], 
    "metadata": {
        "kernelspec": {
            "display_name": "Python 3.5", 
            "name": "python3", 
            "language": "python"
        }, 
        "language_info": {
            "mimetype": "text/x-python", 
            "nbconvert_exporter": "python", 
            "version": "3.5.5", 
            "name": "python", 
            "file_extension": ".py", 
            "pygments_lexer": "ipython3", 
            "codemirror_mode": {
                "version": 3, 
                "name": "ipython"
            }
        }
    }, 
    "nbformat": 4
}